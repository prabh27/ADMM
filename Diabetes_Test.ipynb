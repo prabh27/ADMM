{
 "cells": [
  {
   "cell_type": "code",
   "execution_count": 65,
   "metadata": {},
   "outputs": [],
   "source": [
    "import matplotlib.pyplot as plt\n",
    "import numpy as np\n",
    "from sklearn import datasets, linear_model\n",
    "from sklearn.metrics import mean_squared_error, r2_score\n",
    "# import torch.optim as optim\n",
    "from admm import ADMM\n",
    "import time"
   ]
  },
  {
   "cell_type": "code",
   "execution_count": 66,
   "metadata": {},
   "outputs": [],
   "source": [
    "# Helper functions\n",
    "def predict(X, W):\n",
    "    b = np.ones((X.shape[0], 1))\n",
    "    X = np.concatenate([X, b], axis = 1)\n",
    "    YPred = X.dot(W)\n",
    "    return YPred\n",
    "\n",
    "def plot(X, Y, YPredict, label):\n",
    "    plt.figure(figsize=(9, 6))\n",
    "    plt.title(label)\n",
    "    plt.xlabel(\"X\")\n",
    "    plt.ylabel(\"Y\")\n",
    "    plt.scatter(X, Y,  color='black', label = 'Actual')\n",
    "    plt.plot(X, YPredict, color='blue', linewidth=3, label = 'Prediction')\n",
    "    plt.xticks(())\n",
    "    plt.yticks(())\n",
    "    plt.legend()\n",
    "    plt.show()\n",
    "    \n",
    "def plotCompare(X, Y, YP_ADMM, YP_SK, label):\n",
    "    plt.figure(figsize=(9, 6))\n",
    "    plt.title(label)\n",
    "    plt.xlabel(\"Data\")\n",
    "    plt.ylabel(\"Label\")\n",
    "    plt.scatter(X, Y,  color='black', label = 'Actual Data')\n",
    "    plt.plot(X, YP_ADMM, color='blue', linewidth=2, label = 'Prediction by ADMM')\n",
    "    plt.plot(X, YP_SK, color='red', linewidth=2, label = 'Prediction by SK-LEARN')\n",
    "    plt.legend()\n",
    "    plt.show()\n",
    "    \n",
    "def plotObjective(X, title):\n",
    "    plt.plot(X, label = 'Objective Function')\n",
    "    plt.title(title)\n",
    "    plt.xlabel('Iterations')\n",
    "    plt.ylabel('Objective Value')\n",
    "    plt.show()\n",
    "    \n",
    "def runAlgo(X, Y, algo, steps = 5, parallel = True):\n",
    "\n",
    "    admm = ADMM(X,Y)\n",
    "\n",
    "    #print(admm.getLoss())\n",
    "    start = time.time()\n",
    "    oVals = []\n",
    "    for i in range(0, steps):\n",
    "        s = admm.step()\n",
    "        oVals.append(admm.LassoObjective())\n",
    "        print(admm.LassoObjective())\n",
    "        #print('Objective Value:', s)\n",
    "    end = time.time()\n",
    "    admmTime = end - start\n",
    "    #print('Time taken', end - start)\n",
    "\n",
    "    #print('Weights: ',admm.getWeights())\n",
    "#     W = admm.getParams()\n",
    "    W = admm.getWeights()\n",
    "    print(\"W shape: \", W.shape)\n",
    "    print(W)\n",
    "    \n",
    "#     return W, oVals, admmTime\n",
    "    return W, oVals\n",
    "    \n",
    "def lassoObjective(W, X, b, alpha):\n",
    "    return 0.5 * np.linalg.norm(W.dot(X) - b)**2 + alpha *  np.linalg.norm(X, 1)\n",
    "\n",
    "def ridgeObjective(W, X, b, alpha):\n",
    "    return 0.5 * np.linalg.norm(W.dot(X) - b)**2 + alpha *  np.linalg.norm(X, 2)"
   ]
  },
  {
   "cell_type": "code",
   "execution_count": 67,
   "metadata": {},
   "outputs": [],
   "source": [
    "# num_iterations = 5\n",
    "# N = 10000\n",
    "# D = 10\n",
    "\n",
    "# X = np.random.randn(N, D)\n",
    "# Y = np.random.randn(N, 1)"
   ]
  },
  {
   "cell_type": "code",
   "execution_count": 68,
   "metadata": {},
   "outputs": [],
   "source": [
    "# print(X.shape)"
   ]
  },
  {
   "cell_type": "code",
   "execution_count": 69,
   "metadata": {},
   "outputs": [],
   "source": [
    "# Load the diabetes dataset\n",
    "diabetes = datasets.load_diabetes()\n",
    "\n",
    "# Use only one feature\n",
    "diabetes_X = diabetes.data[:, np.newaxis, 2]\n",
    "\n",
    "# Split the data into training/testing sets\n",
    "diabetes_X_train = diabetes_X[:-20]\n",
    "diabetes_X_test = diabetes_X[-20:]\n",
    "\n",
    "# Split the targets into training/testing sets\n",
    "diabetes_y_train = diabetes.target[:-20]\n",
    "diabetes_y_test = diabetes.target[-20:]"
   ]
  },
  {
   "cell_type": "code",
   "execution_count": 70,
   "metadata": {},
   "outputs": [],
   "source": [
    "#print(diabetes)"
   ]
  },
  {
   "cell_type": "code",
   "execution_count": 71,
   "metadata": {},
   "outputs": [],
   "source": [
    "# diabetes_X_train = X[:-20]\n",
    "# diabetes_X_test = X[-20:]\n",
    "# diabetes_y_train = Y[:-20]\n",
    "# diabetes_y_test = Y[-20:]"
   ]
  },
  {
   "cell_type": "code",
   "execution_count": 72,
   "metadata": {},
   "outputs": [
    {
     "name": "stdout",
     "output_type": "stream",
     "text": [
      "Time taken 0.013178110122680664\n",
      "Mean squared error: 2553.13\n",
      "Variance score: 0.47\n"
     ]
    },
    {
     "data": {
      "image/png": "[encoded data removed]",
      "text/plain": [
       "<Figure size 648x432 with 1 Axes>"
      ]
     },
     "metadata": {},
     "output_type": "display_data"
    }
   ],
   "source": [
    "# Run Lasso\n",
    "\n",
    "alpha = 0.01\n",
    "lasso = linear_model.LassoCV(alphas=[alpha]) #, verbose = 1000)\n",
    "\n",
    "start = time.time()\n",
    "lfit = lasso.fit(diabetes_X_train, diabetes_y_train)\n",
    "end = time.time()\n",
    "diabetes_y_pred = lfit.predict(diabetes_X_test)\n",
    "\n",
    "skTime = end- start\n",
    "print('Time taken', end - start)\n",
    "# The coefficients\n",
    "#print('Coefficients: \\n', regr.coef_)\n",
    "# The mean squared error\n",
    "print(\"Mean squared error: %.2f\"\n",
    "      % mean_squared_error(diabetes_y_test, diabetes_y_pred))\n",
    "# Explained variance score: 1 is perfect prediction\n",
    "print('Variance score: %.2f' % r2_score(diabetes_y_test, diabetes_y_pred))\n",
    "\n",
    "# Plot outputs\n",
    "plot(diabetes_X_test, diabetes_y_test, diabetes_y_pred, \"Sk-learn Lasso Prediction\")"
   ]
  },
  {
   "cell_type": "code",
   "execution_count": 73,
   "metadata": {},
   "outputs": [
    {
     "name": "stdout",
     "output_type": "stream",
     "text": [
      "426062.6364269132\n",
      "363433.0389455327\n",
      "460500.51505585643\n"
     ]
    }
   ],
   "source": [
    "sk_w = np.array([944.21977, 872.06439, 981.638155])\n",
    "# sk_b = np.array([2, 2, 2])\n",
    "sk_b = np.array([2.3283064365386963e-10, -2.3283064365386963e-10, 0.0])\n",
    "for w, b in zip(sk_w, sk_b):\n",
    "    print(lassoObjective(np.array(w), diabetes_X_train, np.array(b), alpha))"
   ]
  },
  {
   "cell_type": "code",
   "execution_count": 74,
   "metadata": {},
   "outputs": [
    {
     "name": "stdout",
     "output_type": "stream",
     "text": [
      "(array([965.75198079]), 0.0, 1243.5769, 2)\n",
      "Time taken 0.013178110122680664\n"
     ]
    }
   ],
   "source": [
    "# Create linear regression object\n",
    "\n",
    "alpha = 0.01\n",
    "#lasso = linear_model.LassoCV(alphas=[alpha], verbose = 10)\n",
    "\n",
    "#start = time.time()\n",
    "lfit = linear_model.lasso_path(diabetes_X_train, diabetes_y_train, alphas=[alpha], verbose = 10)\n",
    "#end = time.time()\n",
    "#diabetes_y_pred = lfit.predict(diabetes_X_test)\n",
    "\n",
    "skTime = end- start\n",
    "print('Time taken', end - start)\n",
    "# The coefficients\n",
    "#print('Coefficients: \\n', regr.coef_)\n",
    "# The mean squared error\n",
    "#print(\"Mean squared error: %.2f\"\n",
    "#      % mean_squared_error(diabetes_y_test, diabetes_y_pred))\n",
    "# Explained variance score: 1 is perfect prediction\n",
    "#print('Variance score: %.2f' % r2_score(diabetes_y_test, diabetes_y_pred))\n",
    "\n",
    "# Plot outputs\n",
    "#plot(diabetes_X_test, diabetes_y_test, diabetes_y_pred, \"Sk-learn Lasso Prediction\")"
   ]
  },
  {
   "cell_type": "code",
   "execution_count": 75,
   "metadata": {},
   "outputs": [
    {
     "data": {
      "text/plain": [
       "dict_keys(['alphas', 'copy_X', 'cv', 'eps', 'fit_intercept', 'max_iter', 'n_alphas', 'n_jobs', 'normalize', 'positive', 'precompute', 'random_state', 'selection', 'tol', 'verbose'])"
      ]
     },
     "execution_count": 75,
     "metadata": {},
     "output_type": "execute_result"
    }
   ],
   "source": [
    "lasso.get_params().keys()"
   ]
  },
  {
   "cell_type": "code",
   "execution_count": 76,
   "metadata": {},
   "outputs": [
    {
     "name": "stdout",
     "output_type": "stream",
     "text": [
      "983261.463164293\n",
      "897668.6203126734\n",
      "868007.8413340384\n",
      "856511.319478526\n",
      "851592.7846565667\n",
      "849327.9824983742\n",
      "848234.7107673415\n",
      "847692.2511785958\n",
      "847418.9980950987\n",
      "847280.2432261793\n",
      "847209.4891767501\n",
      "847173.3318901183\n",
      "847154.8338783506\n",
      "847145.3648987642\n",
      "847140.5163812094\n",
      "847138.0333613176\n",
      "847136.7616604941\n",
      "847136.1103217956\n",
      "847135.7767129098\n",
      "847135.6058401458\n",
      "W shape:  (2, 1)\n",
      "[[780.45964671]\n",
      " [151.14402181]]\n",
      "Weights:  [[780.45964671]\n",
      " [151.14402181]]\n",
      "Mean squared error: 2715.74\n",
      "Variance score: 0.44\n"
     ]
    },
    {
     "data": {
      "image/png": "[encoded data removed]",
      "text/plain": [
       "<Figure size 648x432 with 1 Axes>"
      ]
     },
     "metadata": {},
     "output_type": "display_data"
    }
   ],
   "source": [
    "X = diabetes_X_train\n",
    "Y = diabetes_y_train\n",
    "\n",
    "b = np.ones((X.shape[0], 1))\n",
    "X = np.concatenate([X, b], axis = 1)\n",
    "Y = Y.reshape(-1, 1)\n",
    "\n",
    "W, oVals = runAlgo(X, Y, \"Lasso\", 20)\n",
    "\n",
    "print('Weights: ', W)\n",
    "\n",
    "# Comparison with Scikit - LR\n",
    "admm_predict = predict(diabetes_X_test, W)\n",
    "\n",
    "print(\"Mean squared error: %.2f\"\n",
    "      % mean_squared_error(diabetes_y_test, admm_predict))\n",
    "# Explained variance score: 1 is perfect prediction\n",
    "print('Variance score: %.2f' % r2_score(diabetes_y_test, admm_predict))\n",
    "\n",
    "plot(diabetes_X_test, diabetes_y_test, admm_predict, \"ADMM-Lasso Prediction\")"
   ]
  },
  {
   "cell_type": "code",
   "execution_count": 58,
   "metadata": {},
   "outputs": [
    {
     "data": {
      "image/png": "[encoded data removed]",
      "text/plain": [
       "<Figure size 648x432 with 1 Axes>"
      ]
     },
     "metadata": {
      "needs_background": "light"
     },
     "output_type": "display_data"
    }
   ],
   "source": [
    "plotCompare(diabetes_X_test, diabetes_y_test, admm_predict, diabetes_y_pred, \"Prediction from Lasso Solver\")"
   ]
  },
  {
   "cell_type": "code",
   "execution_count": 59,
   "metadata": {},
   "outputs": [
    {
     "data": {
      "image/png": "[encoded data removed]",
      "text/plain": [
       "<Figure size 432x288 with 1 Axes>"
      ]
     },
     "metadata": {
      "needs_background": "light"
     },
     "output_type": "display_data"
    }
   ],
   "source": [
    "plotObjective(oVals, \"Lasso Solver\")"
   ]
  },
  {
   "cell_type": "code",
   "execution_count": 60,
   "metadata": {},
   "outputs": [
    {
     "name": "stdout",
     "output_type": "stream",
     "text": [
      "(2, 20)\n"
     ]
    },
    {
     "data": {
      "text/plain": [
       "<matplotlib.contour.QuadContourSet at 0x7f8818aa6510>"
      ]
     },
     "execution_count": 60,
     "metadata": {},
     "output_type": "execute_result"
    },
    {
     "data": {
      "image/png": "[encoded data removed]",
      "text/plain": [
       "<Figure size 432x288 with 1 Axes>"
      ]
     },
     "metadata": {
      "needs_background": "light"
     },
     "output_type": "display_data"
    }
   ],
   "source": [
    "v = np.arange(20)\n",
    "o = np.array(oVals)\n",
    "v2 = np.array([v, o])\n",
    "print(v2.shape)\n",
    "plt.contour(v2)"
   ]
  },
  {
   "cell_type": "code",
   "execution_count": 16,
   "metadata": {},
   "outputs": [
    {
     "name": "stdout",
     "output_type": "stream",
     "text": [
      "Mean squared error: 2559.32\n",
      "Variance score: 0.47\n"
     ]
    },
    {
     "data": {
      "image/png": "[encoded data removed]",
      "text/plain": [
       "<Figure size 648x432 with 1 Axes>"
      ]
     },
     "metadata": {},
     "output_type": "display_data"
    }
   ],
   "source": [
    "ridge = linear_model.Ridge(alpha=alpha)\n",
    "ridge.fit(diabetes_X_train, diabetes_y_train)\n",
    "\n",
    "diabetes_y_pred = ridge.predict(diabetes_X_test)\n",
    "print(\"Mean squared error: %.2f\"\n",
    "      % mean_squared_error(diabetes_y_test, diabetes_y_pred))\n",
    "# Explained variance score: 1 is perfect prediction\n",
    "print('Variance score: %.2f' % r2_score(diabetes_y_test, diabetes_y_pred))\n",
    "\n",
    "# Plot outputs\n",
    "plot(diabetes_X_test, diabetes_y_test, diabetes_y_pred, \"Sk-learn Ridge Regression\")"
   ]
  },
  {
   "cell_type": "code",
   "execution_count": 17,
   "metadata": {},
   "outputs": [
    {
     "name": "stdout",
     "output_type": "stream",
     "text": [
      "('Objective Value:', 984938.0554013834)\n",
      "('Objective Value:', 903792.6608557915)\n",
      "('Objective Value:', 875609.5206129656)\n",
      "('Objective Value:', 864663.0861696684)\n",
      "('Objective Value:', 859971.1507052473)\n",
      "('Objective Value:', 857808.3574853624)\n",
      "('Objective Value:', 856763.9762400246)\n",
      "('Objective Value:', 856245.8749175465)\n",
      "('Objective Value:', 855985.0276359753)\n",
      "('Objective Value:', 855852.6662000592)\n",
      "('Objective Value:', 855785.2271855089)\n",
      "('Objective Value:', 855750.793946407)\n",
      "('Objective Value:', 855733.193807941)\n",
      "('Objective Value:', 855724.1926951106)\n",
      "('Objective Value:', 855719.5880063404)\n",
      "('Objective Value:', 855717.232046786)\n",
      "('Objective Value:', 855716.0265449646)\n",
      "('Objective Value:', 855715.4096879029)\n",
      "('Objective Value:', 855715.0940350482)\n",
      "('Objective Value:', 855714.9325102314)\n",
      "Mean squared error: 2746.21\n",
      "Variance score: 0.43\n"
     ]
    },
    {
     "data": {
      "image/png": "[encoded data removed]",
      "text/plain": [
       "<Figure size 648x432 with 1 Axes>"
      ]
     },
     "metadata": {},
     "output_type": "display_data"
    }
   ],
   "source": [
    "X = diabetes_X_train\n",
    "Y = diabetes_y_train\n",
    "\n",
    "b = np.ones((X.shape[0], 1))\n",
    "X = np.concatenate([X, b], axis = 1)\n",
    "Y = Y.reshape(-1, 1)\n",
    "\n",
    "W, oVals = runAlgo(X, Y, \"Ridge\", 20)\n",
    "\n",
    "# Comparison with Scikit - LR\n",
    "admm_predict = predict(diabetes_X_test, W)\n",
    "\n",
    "print(\"Mean squared error: %.2f\"\n",
    "      % mean_squared_error(diabetes_y_test, admm_predict))\n",
    "# Explained variance score: 1 is perfect prediction\n",
    "print('Variance score: %.2f' % r2_score(diabetes_y_test, admm_predict))\n",
    "\n",
    "plot(diabetes_X_test, diabetes_y_test, admm_predict, \"ADMM-Lasso Prediction\")"
   ]
  },
  {
   "cell_type": "code",
   "execution_count": 18,
   "metadata": {},
   "outputs": [
    {
     "data": {
      "image/png": "[encoded data removed]",
      "text/plain": [
       "<Figure size 432x288 with 1 Axes>"
      ]
     },
     "metadata": {},
     "output_type": "display_data"
    }
   ],
   "source": [
    "plotObjective(oVals, \"Ridge Solver\")"
   ]
  },
  {
   "cell_type": "code",
   "execution_count": 19,
   "metadata": {},
   "outputs": [
    {
     "data": {
      "image/png": "[encoded data removed]",
      "text/plain": [
       "<Figure size 648x432 with 1 Axes>"
      ]
     },
     "metadata": {},
     "output_type": "display_data"
    }
   ],
   "source": [
    "plotCompare(diabetes_X_test, diabetes_y_test, admm_predict, diabetes_y_pred, \"Prediction from Ridge Solver\")"
   ]
  },
  {
   "cell_type": "code",
   "execution_count": 21,
   "metadata": {},
   "outputs": [],
   "source": [
    "# Speed up stats"
   ]
  },
  {
   "cell_type": "code",
   "execution_count": 144,
   "metadata": {},
   "outputs": [
    {
     "data": {
      "text/plain": [
       "1.0879090649973364"
      ]
     },
     "execution_count": 144,
     "metadata": {},
     "output_type": "execute_result"
    }
   ],
   "source": [
    "# Lasso\n",
    "\n",
    "alpha = 0.01\n",
    " #, verbose = 1000)\n",
    "\n",
    "sk = []\n",
    "admm = []\n",
    "for i in range(0, 10000):\n",
    "    lasso = linear_model.Lasso(alpha=alpha)\n",
    "    start = time.time()\n",
    "    lfit = lasso.fit(diabetes_X_train, diabetes_y_train)\n",
    "    end = time.time()\n",
    "    \n",
    "    sk_time = end - start\n",
    "    \n",
    "    W, oVals, admm_time = runAlgo(X, Y, \"Lasso\", 3) #, parallel = True)\n",
    "    \n",
    "    sk.append(sk_time)\n",
    "    admm.append(admm_time)\n",
    "\n",
    "sk = np.array(sk)\n",
    "admm = np.array(admm)\n",
    "np.mean(sk/admm)"
   ]
  },
  {
   "cell_type": "code",
   "execution_count": 129,
   "metadata": {},
   "outputs": [],
   "source": [
    "# sk / admm"
   ]
  },
  {
   "cell_type": "code",
   "execution_count": null,
   "metadata": {},
   "outputs": [],
   "source": [
    "1.0539322531987703"
   ]
  },
  {
   "cell_type": "code",
   "execution_count": 133,
   "metadata": {},
   "outputs": [
    {
     "data": {
      "text/plain": [
       "array([1.42799539, 1.18829517, 1.13125   , 1.10335449, 0.9220679 ,\n",
       "       1.13853211, 1.2535461 , 1.17011701, 0.93159108, 1.07160293])"
      ]
     },
     "execution_count": 133,
     "metadata": {},
     "output_type": "execute_result"
    }
   ],
   "source": [
    "sk / admm"
   ]
  },
  {
   "cell_type": "code",
   "execution_count": 134,
   "metadata": {},
   "outputs": [
    {
     "data": {
      "text/plain": [
       "array([0.00059104, 0.00033402, 0.00030208, 0.00029016, 0.00028491,\n",
       "       0.00029588, 0.00033712, 0.00030994, 0.00028896, 0.000314  ])"
      ]
     },
     "execution_count": 134,
     "metadata": {},
     "output_type": "execute_result"
    }
   ],
   "source": [
    "sk"
   ]
  },
  {
   "cell_type": "code",
   "execution_count": 135,
   "metadata": {},
   "outputs": [
    {
     "data": {
      "text/plain": [
       "array([0.00041389, 0.0002811 , 0.00026703, 0.00026298, 0.00030899,\n",
       "       0.00025988, 0.00026894, 0.00026488, 0.00031018, 0.00029302])"
      ]
     },
     "execution_count": 135,
     "metadata": {},
     "output_type": "execute_result"
    }
   ],
   "source": [
    "admm"
   ]
  },
  {
   "cell_type": "code",
   "execution_count": 143,
   "metadata": {},
   "outputs": [
    {
     "data": {
      "text/plain": [
       "1.58908746285971"
      ]
     },
     "execution_count": 143,
     "metadata": {},
     "output_type": "execute_result"
    }
   ],
   "source": [
    "# Ridge\n",
    "\n",
    "alpha = 0.01\n",
    " #, verbose = 1000)\n",
    "\n",
    "sk = []\n",
    "admm = []\n",
    "for i in range(0, 10000):\n",
    "    lasso = linear_model.Ridge(alpha=alpha)\n",
    "    start = time.time()\n",
    "    lfit = lasso.fit(diabetes_X_train, diabetes_y_train)\n",
    "    end = time.time()\n",
    "    \n",
    "    sk_time = end - start\n",
    "    \n",
    "    W, oVals, admm_time = runAlgo(X, Y, \"Ridge\", 3) #, parallel = True)\n",
    "    \n",
    "    sk.append(sk_time)\n",
    "    admm.append(admm_time)\n",
    "\n",
    "sk = np.array(sk)\n",
    "admm = np.array(admm)\n",
    "np.mean(sk/admm)"
   ]
  },
  {
   "cell_type": "code",
   "execution_count": 140,
   "metadata": {},
   "outputs": [
    {
     "data": {
      "text/plain": [
       "array([0.000633  , 0.00053191, 0.0004971 , 0.00048494, 0.00048399,\n",
       "       0.00049186, 0.000494  , 0.00049496, 0.00050712, 0.00053596])"
      ]
     },
     "execution_count": 140,
     "metadata": {},
     "output_type": "execute_result"
    }
   ],
   "source": [
    "sk"
   ]
  },
  {
   "cell_type": "code",
   "execution_count": 141,
   "metadata": {},
   "outputs": [
    {
     "data": {
      "text/plain": [
       "array([0.00037718, 0.00030708, 0.00030208, 0.00030184, 0.00031805,\n",
       "       0.00030494, 0.00030088, 0.00030708, 0.00031209, 0.0003252 ])"
      ]
     },
     "execution_count": 141,
     "metadata": {},
     "output_type": "execute_result"
    }
   ],
   "source": [
    "admm"
   ]
  },
  {
   "cell_type": "code",
   "execution_count": 142,
   "metadata": {},
   "outputs": [
    {
     "data": {
      "text/plain": [
       "array([1.67825537, 1.73214286, 1.64561957, 1.60663507, 1.52173913,\n",
       "       1.61297889, 1.64183835, 1.61180124, 1.62490451, 1.64809384])"
      ]
     },
     "execution_count": 142,
     "metadata": {},
     "output_type": "execute_result"
    }
   ],
   "source": [
    "sk / admm"
   ]
  },
  {
   "cell_type": "code",
   "execution_count": null,
   "metadata": {},
   "outputs": [],
   "source": []
  }
 ],
 "metadata": {
  "kernelspec": {
   "display_name": "Python 3",
   "language": "python",
   "name": "python3"
  },
  "language_info": {
   "codemirror_mode": {
    "name": "ipython",
    "version": 3
   },
   "file_extension": ".py",
   "mimetype": "text/x-python",
   "name": "python",
   "nbconvert_exporter": "python",
   "pygments_lexer": "ipython3",
   "version": "3.7.9"
  }
 },
 "nbformat": 4,
 "nbformat_minor": 2
}
