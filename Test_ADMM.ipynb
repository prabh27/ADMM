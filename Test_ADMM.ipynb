{
 "cells": [
  {
   "cell_type": "code",
   "execution_count": 2,
   "metadata": {},
   "outputs": [],
   "source": [
    "import numpy as np\n",
    "from admm import ADMM"
   ]
  },
  {
   "cell_type": "code",
   "execution_count": 10,
   "metadata": {},
   "outputs": [],
   "source": [
    "num_iterations = 5\n",
    "N = 1000\n",
    "D = 20\n",
    "\n",
    "A = np.random.randn(N, D)\n",
    "b = np.random.randn(N, 1)\n",
    "Y = np.random.rand(N, 1)"
   ]
  },
  {
   "cell_type": "code",
   "execution_count": 11,
   "metadata": {},
   "outputs": [
    {
     "name": "stdout",
     "output_type": "stream",
     "text": [
      "14016.169107444688\n",
      "O Val: 464.9360435417088\n",
      "O Val: 464.93602773641936\n",
      "O Val: 464.9360452950318\n",
      "O Val: 464.9360307334083\n",
      "O Val: 464.9360397277297\n"
     ]
    }
   ],
   "source": [
    "admm = ADMM(A, b) #, parallel = True)\n",
    "# admm.step()\n",
    "\n",
    "print(admm.LassoObjective())\n",
    "for i in range(0, num_iterations):\n",
    "    admm.step()\n",
    "    print('O Val:', admm.LassoObjective())\n"
   ]
  },
  {
   "cell_type": "code",
   "execution_count": null,
   "metadata": {},
   "outputs": [],
   "source": []
  }
 ],
 "metadata": {
  "kernelspec": {
   "display_name": "Python 3",
   "language": "python",
   "name": "python3"
  },
  "language_info": {
   "codemirror_mode": {
    "name": "ipython",
    "version": 3
   },
   "file_extension": ".py",
   "mimetype": "text/x-python",
   "name": "python",
   "nbconvert_exporter": "python",
   "pygments_lexer": "ipython3",
   "version": "3.7.9"
  }
 },
 "nbformat": 4,
 "nbformat_minor": 2
}
